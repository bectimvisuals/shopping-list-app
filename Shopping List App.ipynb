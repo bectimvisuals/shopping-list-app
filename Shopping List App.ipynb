{
 "cells": [
  {
   "cell_type": "code",
   "execution_count": 1,
   "id": "b675f02c-a8c8-4906-8eb6-9f0892f45b12",
   "metadata": {},
   "outputs": [],
   "source": [
    "shopping_list = []"
   ]
  },
  {
   "cell_type": "code",
   "execution_count": 9,
   "id": "a49fda1e-79c7-4fcb-9734-d25a0df71eed",
   "metadata": {},
   "outputs": [
    {
     "name": "stdout",
     "output_type": "stream",
     "text": [
      "Welcome to Pennymart Online Shopping Service. Lets go to the menu\n"
     ]
    },
    {
     "data": {
      "text/plain": [
       "['Add item', 'View List', 'Remove item', 'Exit']"
      ]
     },
     "execution_count": 9,
     "metadata": {},
     "output_type": "execute_result"
    }
   ],
   "source": [
    "def show_menu(menu):\n",
    "    print(\"Welcome to Pennymart Online Shopping Service. Lets go to the menu\")\n",
    "    return menu\n",
    "\n",
    "menu = [\"Add item\", \"View List\", \"Remove item\", \"Exit\"]  \n",
    "show_menu(menu)"
   ]
  },
  {
   "cell_type": "code",
   "execution_count": 4,
   "id": "6ccb16d0-8d12-48f8-a919-40b7927a97a3",
   "metadata": {},
   "outputs": [
    {
     "name": "stdin",
     "output_type": "stream",
     "text": [
      "What item do you want to add to your shopping list? Cerelac\n"
     ]
    },
    {
     "name": "stdout",
     "output_type": "stream",
     "text": [
      "This is your new shopping list: ['Customized Jewelery', 'Cerelac']\n"
     ]
    }
   ],
   "source": [
    "def add_item():\n",
    "    item_name = input(\"What item do you want to add to your shopping list?\")\n",
    "    shopping_list.append(item_name)\n",
    "    return shopping_list\n",
    "    print(\"Your item has been added\")\n",
    "\n",
    "print(\"This is your new shopping list:\", add_item())"
   ]
  },
  {
   "cell_type": "code",
   "execution_count": 5,
   "id": "89f5c41e-d289-422c-a849-c90ca1a06379",
   "metadata": {},
   "outputs": [
    {
     "name": "stdout",
     "output_type": "stream",
     "text": [
      "Customized Jewelery\n",
      "Cerelac\n",
      "Those are all the items in your list\n"
     ]
    }
   ],
   "source": [
    "def view_list(shopping_list):\n",
    "    if shopping_list == []:\n",
    "        print(\"Your shopping list is empty\")\n",
    "    else:\n",
    "        for item in shopping_list:\n",
    "            print(item)\n",
    "    print(\"Those are all the items in your list\")\n",
    "            \n",
    "view_list(shopping_list)   "
   ]
  },
  {
   "cell_type": "code",
   "execution_count": 6,
   "id": "653ffee5-90ae-4c2f-8836-cd35aac0cd1e",
   "metadata": {},
   "outputs": [
    {
     "name": "stdin",
     "output_type": "stream",
     "text": [
      "What is the name of the item you want to remove? garri\n"
     ]
    },
    {
     "name": "stdout",
     "output_type": "stream",
     "text": [
      "Item not found in the list\n"
     ]
    }
   ],
   "source": [
    "def remove_item():\n",
    "    item = input(\"What is the name of the item you want to remove?\")\n",
    "    if item in shopping_list:\n",
    "        shopping_list.remove(item)\n",
    "        print(\"It has been removed\")\n",
    "    else:\n",
    "        print(\"Item not found in the list\")\n",
    "remove_item()     "
   ]
  },
  {
   "cell_type": "code",
   "execution_count": 11,
   "id": "c57f7fcf-d389-4d4e-8285-d93b4585d95b",
   "metadata": {},
   "outputs": [
    {
     "name": "stdout",
     "output_type": "stream",
     "text": [
      "Welcome to Pennymart Online Shopping Service. Lets go to the menu\n"
     ]
    },
    {
     "name": "stdin",
     "output_type": "stream",
     "text": [
      "Choose an option 1 - 4:  1\n",
      "What item do you want to add to your shopping list? Bag\n"
     ]
    },
    {
     "name": "stdout",
     "output_type": "stream",
     "text": [
      "Welcome to Pennymart Online Shopping Service. Lets go to the menu\n"
     ]
    },
    {
     "name": "stdin",
     "output_type": "stream",
     "text": [
      "Choose an option 1 - 4:  2\n"
     ]
    },
    {
     "name": "stdout",
     "output_type": "stream",
     "text": [
      "Customized Jewelery\n",
      "Cerelac\n",
      "Shoes\n",
      "Bag\n",
      "Those are all the items in your list\n",
      "Welcome to Pennymart Online Shopping Service. Lets go to the menu\n"
     ]
    },
    {
     "name": "stdin",
     "output_type": "stream",
     "text": [
      "Choose an option 1 - 4:  3\n",
      "What is the name of the item you want to remove? shoes\n"
     ]
    },
    {
     "name": "stdout",
     "output_type": "stream",
     "text": [
      "Item not found in the list\n",
      "Welcome to Pennymart Online Shopping Service. Lets go to the menu\n"
     ]
    },
    {
     "name": "stdin",
     "output_type": "stream",
     "text": [
      "Choose an option 1 - 4:  4\n"
     ]
    },
    {
     "name": "stdout",
     "output_type": "stream",
     "text": [
      "Goodbye!\n"
     ]
    }
   ],
   "source": [
    "while True:\n",
    "    show_menu(menu)\n",
    "    option_menu = input(\"Choose an option 1 - 4: \")\n",
    "    if option_menu == '1':\n",
    "        add_item()\n",
    "    elif option_menu == '2':\n",
    "        view_list(shopping_list)\n",
    "    elif option_menu == '3':\n",
    "        remove_item()\n",
    "    else:\n",
    "        print(\"Goodbye!\")\n",
    "        break"
   ]
  },
  {
   "cell_type": "code",
   "execution_count": null,
   "id": "e03b3183-c174-4373-b297-29eb089ea721",
   "metadata": {},
   "outputs": [],
   "source": []
  }
 ],
 "metadata": {
  "kernelspec": {
   "display_name": "Python 3 (ipykernel)",
   "language": "python",
   "name": "python3"
  },
  "language_info": {
   "codemirror_mode": {
    "name": "ipython",
    "version": 3
   },
   "file_extension": ".py",
   "mimetype": "text/x-python",
   "name": "python",
   "nbconvert_exporter": "python",
   "pygments_lexer": "ipython3",
   "version": "3.13.5"
  }
 },
 "nbformat": 4,
 "nbformat_minor": 5
}
